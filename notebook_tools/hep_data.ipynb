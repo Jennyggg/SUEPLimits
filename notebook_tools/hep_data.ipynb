{
 "cells": [
  {
   "cell_type": "code",
   "execution_count": 1,
   "metadata": {},
   "outputs": [],
   "source": [
    "import numpy as np\n",
    "import glob\n",
    "import os\n",
    "import uproot\n",
    "import json"
   ]
  },
  {
   "cell_type": "code",
   "execution_count": 14,
   "metadata": {},
   "outputs": [],
   "source": [
    "# Define auxilary functions \n",
    "\n",
    "def get_limits(fn): # Returns quantile vs limits\n",
    "    f = uproot.open(fn)\n",
    "    limit = f[\"limit\"]['limit'].array(library=\"np\")\n",
    "    quant = f[\"limit\"]['quantileExpected'].array(library=\"np\")\n",
    "    if limit.shape[0] == 1:\n",
    "        return -1\n",
    "    else:\n",
    "        return np.stack([quant,limit]) \n",
    "    \n",
    "def get_SUEP_file(Mass=125, mdark=2, t=1, decay='generic', HT='1000', path=\"../\"): # Returns filename\n",
    "    if t < 10:\n",
    "        tem = \"{0:.2f}\".format(t)\n",
    "    else:\n",
    "        tem = \"{0:.1f}\".format(t)\n",
    "    tem = str(tem).replace(\".\",\"p\")\n",
    "    fname = os.path.join(\n",
    "        \"{}higgsCombineGluGluToSUEP_HT{}_T{}_mS{:.3f}_mPhi{:.3f}_T{:.3f}_mode{}_TuneCP5_13TeV-pythia8.AsymptoticLimits.mH125.root\".format(path, HT, tem, Mass, mdark, t, decay)\n",
    "    )\n",
    "    if os.path.isfile(fname):\n",
    "        return fname\n",
    "    else:\n",
    "        pass\n",
    "     \n",
    "def xs_scale(proc, era):\n",
    "    xsec = 1.0\n",
    "    with open(f\"../config/xsections_{era}.json\") as file:\n",
    "            MC_xsecs = json.load(file)\n",
    "    xsec  = MC_xsecs[proc][\"xsec\"]\n",
    "    xsec *= MC_xsecs[proc][\"kr\"]\n",
    "    xsec *= MC_xsecs[proc][\"br\"]\n",
    "    #xsec *= 1000.0\n",
    "    assert xsec > 0, \"{} has a null cross section!\".format(proc)\n",
    "    return xsec\n",
    "\n",
    "# Get all SUEP masses for a given mdark and T\n",
    "def get_params_from_dir(path=\"../\", era='2018', HT='1000'):\n",
    "    \"\"\"\n",
    "    Grabs the parameters [T, mS, mPhi, mode, xsec] from each file from combine\n",
    "    from a specific directory. The 'era' parameter is just used for the\n",
    "    cross sections, which for SUEP don't change between years. HT parameter\n",
    "    specifies the HT of the files.\n",
    "    \"\"\"\n",
    "\n",
    "    # Get files\n",
    "    combine_files = glob.glob(\"{}higgsCombineGluGluToSUEP_HT{}*.root\".format(path, HT))\n",
    "\n",
    "    # Filter out the parameters\n",
    "    all_params = []\n",
    "    for file in combine_files:\n",
    "        file_trim = file.split(\"HT{}_\".format(HT))[1]\n",
    "        proc = 'GluGluToSUEP_HT{}_'.format(HT) + file_trim.split('.Asymptotic')[0]\n",
    "        xsec = xs_scale(proc, era)\n",
    "        t = float(file_trim.split(\"_\")[0].replace(\"p\",\".\")[1:])\n",
    "        Mass = float(file_trim.split(\"_\")[1][2:])\n",
    "        mphi = float(file_trim.split(\"_\")[2][4:])\n",
    "        mode = file_trim.split('_')[4][4:]\n",
    "        all_params.append([t,Mass,mphi,mode, xsec])\n",
    "\n",
    "    return all_params\n",
    "\n",
    "\n",
    "def create_limit_table(params, path, HT='1000'):\n",
    "    \"\"\"\n",
    "    Expects params to be a list of lists of the shape: [t,Mass,mphi,mode, xsec].\n",
    "    Returns table of limits.\n",
    "    \"\"\"\n",
    "\n",
    "    rows = [['T', 'mS', 'mPhi', 'Mode', 'Xsec', 'Obs', 'Exp', '+2sigma', '+1sigma', '-1sigma', '-2sigma']]\n",
    "    for param in params:\n",
    "        lims = get_limits(get_SUEP_file(path=path, HT=HT, Mass=param[1], mdark=param[2], t=param[0], decay=param[3]))\n",
    "        if lims.shape != (2,6):\n",
    "            print(param, \"has bad limits\")\n",
    "            continue\n",
    "\n",
    "        lims = lims * param[-1]        \n",
    "\n",
    "        _exp =lims[1][2]\n",
    "        _s1p =lims[1][1] \n",
    "        _s1m =lims[1][3] \n",
    "        _s2p =lims[1][0] \n",
    "        _s2m =lims[1][4] \n",
    "        _obs =lims[1][5]   \n",
    "\n",
    "        newline = [*param, _obs, _exp, _s2p, _s1p, _s1m, _s2m]\n",
    "        rows.append(newline)\n",
    "    \n",
    "    return rows\n",
    "    "
   ]
  },
  {
   "cell_type": "code",
   "execution_count": 15,
   "metadata": {},
   "outputs": [],
   "source": [
    "# Take temperature, mphi/mdark, decay mode (in GeV) \n",
    "ofile = '../ClosureSyst/hep_data.txt'\n",
    "itag = '../ClosureSyst/'\n",
    "HT = '1000'"
   ]
  },
  {
   "cell_type": "code",
   "execution_count": 16,
   "metadata": {},
   "outputs": [
    {
     "name": "stdout",
     "output_type": "stream",
     "text": [
      "[['T', 'mS', 'mPhi', 'Mode', 'Xsec', 'Obs', 'Exp', '+2sigma', '+1sigma', '-1sigma', '-2sigma'], [3.0, 700.0, 3.0, 'generic', 0.024897660529286627, 3.879796834835871e-05, 3.837072316677779e-05, 1.1241422802766932e-05, 1.993127682561416e-05, 7.446629876079715e-05, 0.00011651486626107549], [3.0, 900.0, 3.0, 'generic', 0.017255090398804143, 2.6528642639867242e-05, 2.6460824357297005e-05, 7.752194635926857e-06, 1.3744802593553232e-05, 5.11417374339598e-05, 8.034896636768543e-05], [3.0, 125.0, 3.0, 'generic', 0.11734286459407163, 6.673498758558057, 8.903389851075184, 4.834262458200979, 6.391975288285636, 12.665254981657974, 17.421236341835687], [3.0, 400.0, 3.0, 'generic', 0.046354350400438414, 0.001020698753187191, 0.0008459442608478446, 0.0004560168281132912, 0.0006113785395934648, 0.0011629094120707915, 0.0015400562864700776], [3.0, 200.0, 3.0, 'generic', 0.08151254385944313, 0.7057128600224649, 0.5693141735182982, 0.315791455623431, 0.41680441353466713, 0.7883026425037206, 1.061780066086194], [3.0, 600.0, 3.0, 'generic', 0.030197607245921985, 6.527271847216884e-05, 6.358749084376883e-05, 1.86291477081354e-05, 3.302986699376798e-05, 0.00012264425147047757, 0.00019308404288092155], [3.0, 1000.0, 3.0, 'generic', 0.014485969898806782, 2.569703052777391e-05, 2.564044964998759e-05, 7.511850483394802e-06, 1.3318667403944054e-05, 4.955616871538797e-05, 7.785787487822481e-05], [3.0, 500.0, 3.0, 'generic', 0.03714636925697929, 0.00022566115674185384, 0.00020178386620307355, 6.463389464317199e-05, 0.00011070771321407642, 0.00035058288948296016, 0.0005344860611775307], [3.0, 300.0, 3.0, 'generic', 0.05954613985214754, 0.01434382272428699, 0.012240685975465876, 0.0069332010407912184, 0.009006437343398507, 0.01672954004015783, 0.0222329227576392]]\n"
     ]
    }
   ],
   "source": [
    "params = get_params_from_dir(itag, HT=HT)\n",
    "table = create_limit_table(params, path=itag, HT=HT)\n",
    "print(table[:10])"
   ]
  },
  {
   "cell_type": "code",
   "execution_count": 17,
   "metadata": {},
   "outputs": [],
   "source": [
    "with open(ofile, \"w\") as file:\n",
    "    for row in table:\n",
    "        # Convert the elements of the inner list to strings\n",
    "        row_str = [str(element) for element in row]\n",
    "        # Join the elements with a delimiter (e.g., comma) and write to the file\n",
    "        file.write(\",\".join(row_str) + \"\\n\")"
   ]
  },
  {
   "cell_type": "code",
   "execution_count": null,
   "metadata": {},
   "outputs": [],
   "source": []
  }
 ],
 "metadata": {
  "kernelspec": {
   "display_name": "SUEP",
   "language": "python",
   "name": "suep"
  },
  "language_info": {
   "codemirror_mode": {
    "name": "ipython",
    "version": 3
   },
   "file_extension": ".py",
   "mimetype": "text/x-python",
   "name": "python",
   "nbconvert_exporter": "python",
   "pygments_lexer": "ipython3",
   "version": "3.9.15"
  },
  "orig_nbformat": 4
 },
 "nbformat": 4,
 "nbformat_minor": 2
}
