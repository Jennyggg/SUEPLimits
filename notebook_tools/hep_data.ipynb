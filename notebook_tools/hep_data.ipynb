{
 "cells": [
  {
   "attachments": {},
   "cell_type": "markdown",
   "metadata": {},
   "source": [
    "# HEP Data\n",
    "\n",
    "This noteboook reads in the outputs of combine to prepare tables of limits of the different points in the parameter space."
   ]
  },
  {
   "cell_type": "code",
   "execution_count": 1,
   "metadata": {},
   "outputs": [],
   "source": [
    "import numpy as np\n",
    "import glob\n",
    "import os\n",
    "import uproot\n",
    "import json\n",
    "from tabulate import tabulate"
   ]
  },
  {
   "cell_type": "code",
   "execution_count": 2,
   "metadata": {},
   "outputs": [],
   "source": [
    "# Define auxilary functions \n",
    "\n",
    "def get_limits(fn): # Returns quantile vs limits\n",
    "    f = uproot.open(fn)\n",
    "    limit = f[\"limit\"]['limit'].array(library=\"np\")\n",
    "    quant = f[\"limit\"]['quantileExpected'].array(library=\"np\")\n",
    "    if limit.shape[0] == 1:\n",
    "        return -1\n",
    "    else:\n",
    "        return np.stack([quant,limit]) \n",
    "    \n",
    "def get_SUEP_file(Mass=125, mdark=2, t=1, decay='generic', HT='1000', path=\"../\"): # Returns filename\n",
    "    if t < 10:\n",
    "        tem = \"{0:.2f}\".format(t)\n",
    "    else:\n",
    "        tem = \"{0:.1f}\".format(t)\n",
    "    tem = str(tem).replace(\".\",\"p\")\n",
    "    fname = os.path.join(\n",
    "        \"{}higgsCombineGluGluToSUEP_HT{}_T{}_mS{:.3f}_mPhi{:.3f}_T{:.3f}_mode{}_TuneCP5_13TeV-pythia8.AsymptoticLimits.mH125.root\".format(path, HT, tem, Mass, mdark, t, decay)\n",
    "    )\n",
    "    if os.path.isfile(fname):\n",
    "        return fname\n",
    "    else:\n",
    "        pass\n",
    "     \n",
    "def xs_scale(proc, era):\n",
    "    xsec = 1.0\n",
    "    with open(f\"../config/xsections_{era}.json\") as file:\n",
    "            MC_xsecs = json.load(file)\n",
    "    xsec  = MC_xsecs[proc][\"xsec\"]\n",
    "    xsec *= MC_xsecs[proc][\"kr\"]\n",
    "    xsec *= MC_xsecs[proc][\"br\"]\n",
    "    #xsec *= 1000.0\n",
    "    assert xsec > 0, \"{} has a null cross section!\".format(proc)\n",
    "    return xsec\n",
    "\n",
    "# Get all SUEP masses for a given mdark and T\n",
    "def get_params_from_dir(path=\"../\", era='2018', HT='1000'):\n",
    "    \"\"\"\n",
    "    Grabs the parameters [T, mS, mPhi, mode, xsec] from each file from combine\n",
    "    from a specific directory. The 'era' parameter is just used for the\n",
    "    cross sections, which for SUEP don't change between years. HT parameter\n",
    "    specifies the HT of the files.\n",
    "    \"\"\"\n",
    "\n",
    "    # Get files\n",
    "    combine_files = glob.glob(\"{}higgsCombineGluGluToSUEP_HT{}*.root\".format(path, HT))\n",
    "\n",
    "    # Filter out the parameters\n",
    "    all_params = []\n",
    "    for file in combine_files:\n",
    "        file_trim = file.split(\"HT{}_\".format(HT))[1]\n",
    "        proc = 'GluGluToSUEP_HT{}_'.format(HT) + file_trim.split('.Asymptotic')[0]\n",
    "        xsec = xs_scale(proc, era)\n",
    "        t = float(file_trim.split(\"_\")[0].replace(\"p\",\".\")[1:])\n",
    "        Mass = float(file_trim.split(\"_\")[1][2:])\n",
    "        mphi = float(file_trim.split(\"_\")[2][4:])\n",
    "        mode = file_trim.split('_')[4][4:]\n",
    "        all_params.append([t,Mass,mphi,mode, xsec])\n",
    "\n",
    "    return all_params\n",
    "\n",
    "\n",
    "def create_limit_table(params, path, HT='1000'):\n",
    "    \"\"\"\n",
    "    Expects params to be a list of lists of the shape: [t,Mass,mphi,mode, xsec].\n",
    "    Returns table of limits.\n",
    "    \"\"\"\n",
    "\n",
    "    rows = np.array(['T', 'mS', 'mPhi', 'Mode', 'Xsec', 'Obs', 'Exp', '+2sigma', '+1sigma', '-1sigma', '-2sigma'])\n",
    "    for param in params:\n",
    "        lims = get_limits(get_SUEP_file(path=path, HT=HT, Mass=param[1], mdark=param[2], t=param[0], decay=param[3]))\n",
    "        if lims.shape != (2,6):\n",
    "            print(param, \"has bad limits\")\n",
    "            continue\n",
    "\n",
    "        lims = lims * param[-1]        \n",
    "\n",
    "        _exp =lims[1][2]\n",
    "        _s1p =lims[1][1] \n",
    "        _s1m =lims[1][3] \n",
    "        _s2p =lims[1][0] \n",
    "        _s2m =lims[1][4] \n",
    "        _obs =lims[1][5]   \n",
    "\n",
    "        newline = [*param, _obs, _exp, _s2p, _s1p, _s1m, _s2m]\n",
    "        rows = np.row_stack((rows, newline))\n",
    "    \n",
    "    return rows\n",
    "    "
   ]
  },
  {
   "cell_type": "code",
   "execution_count": 3,
   "metadata": {},
   "outputs": [],
   "source": [
    "# script parameters\n",
    "\n",
    "ofile = '../ClosureSyst/hep_{}.txt'\n",
    "itag = '../ClosureSyst/'\n",
    "HT = '1000'"
   ]
  },
  {
   "cell_type": "code",
   "execution_count": 4,
   "metadata": {},
   "outputs": [],
   "source": [
    "params = get_params_from_dir(itag, HT=HT)\n",
    "table = create_limit_table(params, path=itag, HT=HT)"
   ]
  },
  {
   "cell_type": "code",
   "execution_count": 5,
   "metadata": {},
   "outputs": [
    {
     "name": "stdout",
     "output_type": "stream",
     "text": [
      "Written ../ClosureSyst/hep_generic.txt\n",
      "Written ../ClosureSyst/hep_leptonic.txt\n",
      "Written ../ClosureSyst/hep_hadronic.txt\n"
     ]
    }
   ],
   "source": [
    "decays = ['generic', 'leptonic', 'hadronic']\n",
    "\n",
    "# divide the table by decay mode, and save each separetely\n",
    "for decay in decays:\n",
    "    \n",
    "    good_rows = table[:,3]==decay  # only select one decay mode\n",
    "    good_rows[0] = True          # also save the labels\n",
    "    table_decay = table[good_rows, :] \n",
    "    table_decay = table_decay[:, np.arange(table.shape[1]) != 3] # exclude the decay column from output table\n",
    "\n",
    "    fname = ofile.format(decay)\n",
    "    with open(fname, \"w\") as file:\n",
    "        file.write(tabulate(table_decay[1:], headers=table_decay[0,:]))\n",
    "\n",
    "    print(\"Written\", fname)"
   ]
  },
  {
   "cell_type": "code",
   "execution_count": null,
   "metadata": {},
   "outputs": [],
   "source": []
  }
 ],
 "metadata": {
  "kernelspec": {
   "display_name": "SUEP",
   "language": "python",
   "name": "suep"
  },
  "language_info": {
   "codemirror_mode": {
    "name": "ipython",
    "version": 3
   },
   "file_extension": ".py",
   "mimetype": "text/x-python",
   "name": "python",
   "nbconvert_exporter": "python",
   "pygments_lexer": "ipython3",
   "version": "3.9.15"
  },
  "orig_nbformat": 4
 },
 "nbformat": 4,
 "nbformat_minor": 2
}
