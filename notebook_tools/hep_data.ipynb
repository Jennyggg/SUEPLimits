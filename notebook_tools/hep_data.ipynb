{
 "cells": [
  {
   "cell_type": "code",
   "execution_count": 5,
   "metadata": {},
   "outputs": [],
   "source": [
    "import numpy as np\n",
    "import glob\n",
    "import os\n",
    "import uproot\n",
    "import json"
   ]
  },
  {
   "cell_type": "code",
   "execution_count": 6,
   "metadata": {},
   "outputs": [],
   "source": [
    "# Define auxilary functions \n",
    "\n",
    "def get_limits(fn): # Returns quantile vs limits\n",
    "    f = uproot.open(fn)\n",
    "    limit = f[\"limit\"]['limit'].array(library=\"np\")\n",
    "    quant = f[\"limit\"]['quantileExpected'].array(library=\"np\")\n",
    "    if limit.shape[0] == 1:\n",
    "        return -1\n",
    "    else:\n",
    "        return np.stack([quant,limit]) \n",
    "    \n",
    "def get_SUEP_file(Mass=125, mdark=2, t=1, decay='generic', path=\"../\"): # Returns filename\n",
    "    if t < 10:\n",
    "        tem = \"{0:.2f}\".format(t)\n",
    "    else:\n",
    "        tem = \"{0:.1f}\".format(t)\n",
    "    tem = str(tem).replace(\".\",\"p\")\n",
    "    fname = os.path.join(\n",
    "        \"{}higgsCombineGluGluToSUEP_HT1000_T{}_mS{:.3f}_mPhi{:.3f}_T{:.3f}_mode{}_TuneCP5_13TeV-pythia8.AsymptoticLimits.mH125.root\".format(path, tem, Mass, mdark, t, decay)\n",
    "    )\n",
    "    if os.path.isfile(fname):\n",
    "        return fname\n",
    "    else:\n",
    "        pass\n",
    "     \n",
    "def xs_scale(proc, era):\n",
    "    xsec = 1.0\n",
    "    with open(f\"../config/xsections_{era}.json\") as file:\n",
    "            MC_xsecs = json.load(file)\n",
    "    xsec  = MC_xsecs[proc][\"xsec\"]\n",
    "    #xsec *= MC_xsecs[proc][\"kr\"]\n",
    "    xsec *= MC_xsecs[proc][\"br\"]\n",
    "    #xsec *= 1000.0\n",
    "    assert xsec > 0, \"{} has a null cross section!\".format(proc)\n",
    "    return xsec\n",
    "\n",
    "# Get all SUEP masses for a given mdark and T\n",
    "def get_params_from_dir(path=\"../\", era='2018'):\n",
    "    \"\"\"\n",
    "    Grabs the parameters [T, mS, mPhi, mode, xsec] from each file from combine\n",
    "    from a specific directory. The 'era' parameter is just used for the\n",
    "    cross sections, which for SUEP don't change between years.\n",
    "    \"\"\"\n",
    "\n",
    "    # Get files\n",
    "    combine_files = glob.glob(\"{}higgs*.root\".format(path))\n",
    "\n",
    "    # Filter out the parameters\n",
    "    all_params = []\n",
    "    for file in combine_files:\n",
    "        file_trim = file.split(\"HT1000_\")[1]\n",
    "        proc = 'GluGluToSUEP_HT1000_' + file_trim.split('.Asymptotic')[0]\n",
    "        xsec = xs_scale(proc, era)\n",
    "        t = float(file_trim.split(\"_\")[0].replace(\"p\",\".\")[1:])\n",
    "        Mass = float(file_trim.split(\"_\")[1][2:])\n",
    "        mphi = float(file_trim.split(\"_\")[2][4:])\n",
    "        mode = file_trim.split('_')[4][4:]\n",
    "        all_params.append([t,Mass,mphi,mode, xsec])\n",
    "\n",
    "    return all_params\n",
    "\n",
    "\n",
    "def create_limit_table(params, path):\n",
    "    \"\"\"\n",
    "    Expects params to be a list of lists of the shape: [t,Mass,mphi,mode, xsec].\n",
    "    Returns table of limits.\n",
    "    \"\"\"\n",
    "\n",
    "    rows = [['T', 'mS', 'mPhi', 'Mode', 'xsec', 'Exp', '+2sigma', '+1sigma', '-1sigma', '-2sigma']]\n",
    "    for param in params:\n",
    "        lims = get_limits(get_SUEP_file(path=path, Mass=param[1], mdark=param[2], t=param[0], decay=param[3]))\n",
    "        if lims.shape != (2,6):\n",
    "            print(param, \"has bad limits\")\n",
    "            continue\n",
    "\n",
    "        lims = lims * param[-1]        \n",
    "\n",
    "        _exp =lims[1][2]\n",
    "        _s1p =lims[1][1] \n",
    "        _s1m =lims[1][3] \n",
    "        _s2p =lims[1][0] \n",
    "        _s2m =lims[1][4] \n",
    "        _obs =lims[1][5]   \n",
    "\n",
    "        newline = [*param, _exp, _s2p, _s1p, _s1m, _s2m, _obs]\n",
    "        rows.append(newline)\n",
    "    \n",
    "    return rows\n",
    "    "
   ]
  },
  {
   "cell_type": "code",
   "execution_count": 7,
   "metadata": {},
   "outputs": [],
   "source": [
    "# Take temperature, mphi/mdark, decay mode (in GeV) \n",
    "ofile = '../ClosureSyst/hep_data.txt'\n",
    "itag = '../ClosureSyst/'"
   ]
  },
  {
   "cell_type": "code",
   "execution_count": 9,
   "metadata": {},
   "outputs": [
    {
     "name": "stdout",
     "output_type": "stream",
     "text": [
      "[['T', 'mS', 'mPhi', 'Mode', 'xsec', 'Exp', '+2sigma', '+1sigma', '-1sigma', '-2sigma'], [3.0, 700.0, 3.0, 'generic', 0.621, 0.0009570465087890624, 0.00028038471937179564, 0.000497127948794514, 0.0018573460537008942, 0.0029061257326975466, 0.0009677029018846973], [3.0, 900.0, 3.0, 'generic', 0.269, 0.00041251373291015627, 0.00012085363268852234, 0.00021427600854076446, 0.0007972793565131724, 0.0012526084450073542, 0.0004135709929760125], [3.0, 125.0, 3.0, 'generic', 45.2, 3429.55, 1862.1384765625, 2462.163200378418, 4878.605334472657, 6710.590246582032, 2570.6049100668], [3.0, 400.0, 3.0, 'generic', 3.16, 0.05766845703125, 0.031086902618408206, 0.04167799070477486, 0.07927613504230976, 0.10498643219470978, 0.0695815610014679], [3.0, 200.0, 3.0, 'generic', 16.9, 118.03593749999999, 65.47305908203124, 86.41608095169066, 163.43882827758787, 220.13891687393186, 146.3154843375432], [3.0, 600.0, 3.0, 'generic', 1.0, 0.002105712890625, 0.000616908073425293, 0.0010937908664345741, 0.004061389714479446, 0.006394017953425646, 0.002161519551552666], [3.0, 1000.0, 3.0, 'generic', 0.185, 0.00032745361328125, 9.593367576599121e-05, 0.00017009240575134753, 0.0006328807305544615, 0.0009943211916834116, 0.00032817620641540605], [3.0, 500.0, 3.0, 'generic', 1.71, 0.0092889404296875, 0.0029753637313842773, 0.005096330903470516, 0.016138770841062067, 0.02460458943620324, 0.010388110217691555], [3.0, 300.0, 3.0, 'generic', 6.59, 1.3546826171875, 0.7673007011413574, 0.9967467620968818, 1.851466260254383, 2.46052827835083, 1.5874377749381883]]\n"
     ]
    }
   ],
   "source": [
    "params = get_params_from_dir(itag)\n",
    "table = create_limit_table(params, path=itag)\n",
    "print(table[:10])"
   ]
  },
  {
   "cell_type": "code",
   "execution_count": 10,
   "metadata": {},
   "outputs": [],
   "source": [
    "with open(ofile, \"w\") as file:\n",
    "    for row in table:\n",
    "        # Convert the elements of the inner list to strings\n",
    "        row_str = [str(element) for element in row]\n",
    "        # Join the elements with a delimiter (e.g., comma) and write to the file\n",
    "        file.write(\",\".join(row_str) + \"\\n\")"
   ]
  },
  {
   "cell_type": "code",
   "execution_count": null,
   "metadata": {},
   "outputs": [],
   "source": []
  }
 ],
 "metadata": {
  "kernelspec": {
   "display_name": "SUEP",
   "language": "python",
   "name": "suep"
  },
  "language_info": {
   "codemirror_mode": {
    "name": "ipython",
    "version": 3
   },
   "file_extension": ".py",
   "mimetype": "text/x-python",
   "name": "python",
   "nbconvert_exporter": "python",
   "pygments_lexer": "ipython3",
   "version": "3.9.15"
  },
  "orig_nbformat": 4
 },
 "nbformat": 4,
 "nbformat_minor": 2
}
